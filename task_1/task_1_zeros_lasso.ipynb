{
 "cells": [
  {
   "cell_type": "code",
   "execution_count": 1,
   "metadata": {
    "collapsed": true,
    "pycharm": {
     "name": "#%%\n"
    }
   },
   "outputs": [],
   "source": [
    "import warnings\n",
    "warnings.simplefilter(action='ignore', category=FutureWarning)"
   ]
  },
  {
   "cell_type": "code",
   "execution_count": 2,
   "outputs": [],
   "source": [
    "import numpy as np\n",
    "import pandas as pd\n",
    "\n",
    "from sklearn import preprocessing\n",
    "from sklearn.model_selection import cross_val_score, KFold\n",
    "\n",
    "from sklearn.pipeline import make_pipeline\n",
    "\n",
    "from sklearn import linear_model"
   ],
   "metadata": {
    "collapsed": false,
    "pycharm": {
     "name": "#%%\n"
    }
   }
  },
  {
   "cell_type": "code",
   "execution_count": 3,
   "outputs": [
    {
     "data": {
      "text/plain": "      CRIM    ZN  INDUS  CHAS    NOX     RM   AGE     DIS  RAD    TAX  \\\n0  0.00632  18.0   2.31     0  0.538  6.575  65.2  4.0900    1  296.0   \n1  0.02731   0.0   7.07     0  0.469  6.421  78.9  4.9671    2  242.0   \n2  0.02729   0.0   7.07     0  0.469  7.185  61.1  4.9671    2  242.0   \n3  0.03237   0.0   2.18     0  0.458  6.998  45.8  6.0622    3  222.0   \n4  0.06905   0.0   2.18     0  0.458  7.147  54.2  6.0622    3  222.0   \n\n   PTRATIO       B  LSTAT  MEDV  \n0     15.3  396.90   4.98  24.0  \n1     17.8  396.90   9.14  21.6  \n2     17.8  392.83   4.03  34.7  \n3     18.7  394.63   2.94  33.4  \n4     18.7  396.90   5.33  36.2  ",
      "text/html": "<div>\n<style scoped>\n    .dataframe tbody tr th:only-of-type {\n        vertical-align: middle;\n    }\n\n    .dataframe tbody tr th {\n        vertical-align: top;\n    }\n\n    .dataframe thead th {\n        text-align: right;\n    }\n</style>\n<table border=\"1\" class=\"dataframe\">\n  <thead>\n    <tr style=\"text-align: right;\">\n      <th></th>\n      <th>CRIM</th>\n      <th>ZN</th>\n      <th>INDUS</th>\n      <th>CHAS</th>\n      <th>NOX</th>\n      <th>RM</th>\n      <th>AGE</th>\n      <th>DIS</th>\n      <th>RAD</th>\n      <th>TAX</th>\n      <th>PTRATIO</th>\n      <th>B</th>\n      <th>LSTAT</th>\n      <th>MEDV</th>\n    </tr>\n  </thead>\n  <tbody>\n    <tr>\n      <th>0</th>\n      <td>0.00632</td>\n      <td>18.0</td>\n      <td>2.31</td>\n      <td>0</td>\n      <td>0.538</td>\n      <td>6.575</td>\n      <td>65.2</td>\n      <td>4.0900</td>\n      <td>1</td>\n      <td>296.0</td>\n      <td>15.3</td>\n      <td>396.90</td>\n      <td>4.98</td>\n      <td>24.0</td>\n    </tr>\n    <tr>\n      <th>1</th>\n      <td>0.02731</td>\n      <td>0.0</td>\n      <td>7.07</td>\n      <td>0</td>\n      <td>0.469</td>\n      <td>6.421</td>\n      <td>78.9</td>\n      <td>4.9671</td>\n      <td>2</td>\n      <td>242.0</td>\n      <td>17.8</td>\n      <td>396.90</td>\n      <td>9.14</td>\n      <td>21.6</td>\n    </tr>\n    <tr>\n      <th>2</th>\n      <td>0.02729</td>\n      <td>0.0</td>\n      <td>7.07</td>\n      <td>0</td>\n      <td>0.469</td>\n      <td>7.185</td>\n      <td>61.1</td>\n      <td>4.9671</td>\n      <td>2</td>\n      <td>242.0</td>\n      <td>17.8</td>\n      <td>392.83</td>\n      <td>4.03</td>\n      <td>34.7</td>\n    </tr>\n    <tr>\n      <th>3</th>\n      <td>0.03237</td>\n      <td>0.0</td>\n      <td>2.18</td>\n      <td>0</td>\n      <td>0.458</td>\n      <td>6.998</td>\n      <td>45.8</td>\n      <td>6.0622</td>\n      <td>3</td>\n      <td>222.0</td>\n      <td>18.7</td>\n      <td>394.63</td>\n      <td>2.94</td>\n      <td>33.4</td>\n    </tr>\n    <tr>\n      <th>4</th>\n      <td>0.06905</td>\n      <td>0.0</td>\n      <td>2.18</td>\n      <td>0</td>\n      <td>0.458</td>\n      <td>7.147</td>\n      <td>54.2</td>\n      <td>6.0622</td>\n      <td>3</td>\n      <td>222.0</td>\n      <td>18.7</td>\n      <td>396.90</td>\n      <td>5.33</td>\n      <td>36.2</td>\n    </tr>\n  </tbody>\n</table>\n</div>"
     },
     "execution_count": 3,
     "metadata": {},
     "output_type": "execute_result"
    }
   ],
   "source": [
    "#Lets load the dataset and sample some\n",
    "column_names = ['CRIM', 'ZN', 'INDUS', 'CHAS', 'NOX', 'RM', 'AGE', 'DIS', 'RAD', 'TAX', 'PTRATIO', 'B', 'LSTAT', 'MEDV']\n",
    "data = pd.read_csv(\"archive.zip\", header=None, delimiter=\"\\s+\", names=column_names)\n",
    "data.head()"
   ],
   "metadata": {
    "collapsed": false,
    "pycharm": {
     "name": "#%%\n"
    }
   }
  },
  {
   "cell_type": "code",
   "execution_count": 4,
   "outputs": [
    {
     "data": {
      "text/plain": "Index(['CRIM', 'ZN', 'INDUS', 'CHAS', 'NOX', 'RM', 'AGE', 'DIS', 'RAD', 'TAX',\n       'PTRATIO', 'B', 'LSTAT'],\n      dtype='object')"
     },
     "execution_count": 4,
     "metadata": {},
     "output_type": "execute_result"
    }
   ],
   "source": [
    "x = data.loc[:, data.columns[:-1]]\n",
    "x.columns"
   ],
   "metadata": {
    "collapsed": false,
    "pycharm": {
     "name": "#%%\n"
    }
   }
  },
  {
   "cell_type": "code",
   "execution_count": 5,
   "outputs": [],
   "source": [
    "y = data.loc[:,'MEDV']"
   ],
   "metadata": {
    "collapsed": false,
    "pycharm": {
     "name": "#%%\n"
    }
   }
  },
  {
   "cell_type": "code",
   "execution_count": 6,
   "outputs": [],
   "source": [
    "y = np.log1p(y)\n",
    "for col in x.columns:\n",
    "    if np.abs(x[col].skew()) > 0.3:\n",
    "        x[col] = np.log1p(x[col])"
   ],
   "metadata": {
    "collapsed": false,
    "pycharm": {
     "name": "#%%\n"
    }
   }
  },
  {
   "cell_type": "code",
   "execution_count": 7,
   "outputs": [],
   "source": [
    "kf = KFold(n_splits=10)"
   ],
   "metadata": {
    "collapsed": false,
    "pycharm": {
     "name": "#%%\n"
    }
   }
  },
  {
   "cell_type": "code",
   "execution_count": 8,
   "outputs": [],
   "source": [
    "models = [linear_model.LinearRegression(),\n",
    "          linear_model.Ridge(),\n",
    "          linear_model.Lasso(),\n",
    "          linear_model.Lars()]\n",
    "\n",
    "scalers = [None,\n",
    "           preprocessing.StandardScaler(),\n",
    "           preprocessing.MinMaxScaler()]"
   ],
   "metadata": {
    "collapsed": false,
    "pycharm": {
     "name": "#%%\n"
    }
   }
  },
  {
   "cell_type": "code",
   "execution_count": 9,
   "outputs": [],
   "source": [
    "# for sklearn API - that higher return values are better than lower return values. - that's why negative MSE"
   ],
   "metadata": {
    "collapsed": false,
    "pycharm": {
     "name": "#%%\n"
    }
   }
  },
  {
   "cell_type": "code",
   "execution_count": 10,
   "outputs": [
    {
     "name": "stdout",
     "output_type": "stream",
     "text": [
      "Model:  LinearRegression()\n",
      "Scaler: None\n",
      "nMSE: -0.04574725289167475, Variance:0.054707631294927415\n",
      "Scaler: StandardScaler()\n",
      "nMSE: -0.04574725289167468, Variance:0.054707631294927304\n",
      "Scaler: MinMaxScaler()\n",
      "nMSE: -0.045747252891674646, Variance:0.05470763129492705\n",
      "Model:  Ridge()\n",
      "Scaler: None\n",
      "nMSE: -0.04260597300544776, Variance:0.04412459671029232\n",
      "Scaler: StandardScaler()\n",
      "nMSE: -0.04563796890788909, Variance:0.054892903694955184\n",
      "Scaler: MinMaxScaler()\n",
      "nMSE: -0.043801793922794506, Variance:0.05383518248151599\n",
      "Model:  Lasso()\n",
      "Scaler: None\n",
      "nMSE: -0.14432008922198264, Variance:0.12283479071285128\n",
      "Scaler: StandardScaler()\n",
      "nMSE: -0.1655486283445406, Variance:0.13221366882890387\n",
      "Scaler: MinMaxScaler()\n",
      "nMSE: -0.1655486283445406, Variance:0.13221366882890387\n",
      "Model:  Lars()\n",
      "Scaler: None\n",
      "nMSE: -0.045747252891674785, Variance:0.054707631294927304\n",
      "Scaler: StandardScaler()\n",
      "nMSE: -0.04574725289167482, Variance:0.05470763129492734\n",
      "Scaler: MinMaxScaler()\n",
      "nMSE: -0.04574725289167472, Variance:0.054707631294927214\n"
     ]
    }
   ],
   "source": [
    "for m in models:\n",
    "    print('Model: ', m)\n",
    "    for s in scalers:\n",
    "        print('Scaler:', s)\n",
    "        model = make_pipeline(s, m)\n",
    "        scores = cross_val_score(model, x, y, cv=kf, scoring='neg_mean_squared_error')\n",
    "        print(f'nMSE: {scores.mean()}, Variance:{scores.std()}')"
   ],
   "metadata": {
    "collapsed": false,
    "pycharm": {
     "name": "#%%\n"
    }
   }
  },
  {
   "cell_type": "code",
   "execution_count": 11,
   "outputs": [
    {
     "data": {
      "text/plain": "array([-0.        ,  0.        , -0.00924071,  0.        , -0.        ,\n        0.        , -0.        ,  0.        , -0.        , -0.        ,\n       -0.        ,  0.        , -0.        ])"
     },
     "execution_count": 11,
     "metadata": {},
     "output_type": "execute_result"
    }
   ],
   "source": [
    "l_lasso = linear_model.Lasso()\n",
    "l_lasso.fit(x,y).coef_"
   ],
   "metadata": {
    "collapsed": false,
    "pycharm": {
     "name": "#%%\n"
    }
   }
  },
  {
   "cell_type": "code",
   "execution_count": 12,
   "outputs": [
    {
     "name": "stderr",
     "output_type": "stream",
     "text": [
      "C:\\Users\\allk\\AppData\\Local\\Temp/ipykernel_6052/2120035229.py:4: UserWarning: With alpha=0, this algorithm does not converge well. You are advised to use the LinearRegression estimator\n",
      "  l_lasso.fit(x_mm,y).coef_\n",
      "C:\\Users\\allk\\AppData\\Local\\Programs\\Python\\Python38\\lib\\site-packages\\sklearn\\linear_model\\_coordinate_descent.py:647: UserWarning: Coordinate descent with no regularization may lead to unexpected results and is discouraged.\n",
      "  model = cd_fast.enet_coordinate_descent(\n",
      "C:\\Users\\allk\\AppData\\Local\\Programs\\Python\\Python38\\lib\\site-packages\\sklearn\\linear_model\\_coordinate_descent.py:647: ConvergenceWarning: Objective did not converge. You might want to increase the number of iterations, check the scale of the features or consider increasing regularisation. Duality gap: 7.616e+00, tolerance: 7.562e-03 Linear regression models with null weight for the l1 regularization term are more efficiently fitted using one of the solvers implemented in sklearn.linear_model.Ridge/RidgeCV instead.\n",
      "  model = cd_fast.enet_coordinate_descent(\n"
     ]
    },
    {
     "data": {
      "text/plain": "array([-0.620259  , -0.01183429,  0.03960867,  0.08517625, -0.30323108,\n        0.3022376 ,  0.0969144 , -0.43193508,  0.43963723, -0.19543905,\n       -0.32485805,  0.23460293, -1.14403504])"
     },
     "execution_count": 12,
     "metadata": {},
     "output_type": "execute_result"
    }
   ],
   "source": [
    "min_max_scaler = preprocessing.MinMaxScaler()\n",
    "x_mm = pd.DataFrame(data=min_max_scaler.fit_transform(x), columns=x.columns)\n",
    "l_lasso = linear_model.Lasso(alpha=0)\n",
    "l_lasso.fit(x_mm,y).coef_"
   ],
   "metadata": {
    "collapsed": false,
    "pycharm": {
     "name": "#%%\n"
    }
   }
  },
  {
   "cell_type": "code",
   "execution_count": 13,
   "outputs": [
    {
     "data": {
      "text/plain": "array([-0.,  0., -0.,  0., -0.,  0., -0.,  0., -0., -0., -0.,  0., -0.])"
     },
     "execution_count": 13,
     "metadata": {},
     "output_type": "execute_result"
    }
   ],
   "source": [
    "standard_scaler = preprocessing.StandardScaler()\n",
    "x_st = pd.DataFrame(data=standard_scaler.fit_transform(x), columns=x.columns)\n",
    "l_lasso = linear_model.Lasso()\n",
    "l_lasso.fit(x_st,y).coef_"
   ],
   "metadata": {
    "collapsed": false,
    "pycharm": {
     "name": "#%%\n"
    }
   }
  },
  {
   "cell_type": "code",
   "execution_count": 14,
   "outputs": [
    {
     "data": {
      "text/plain": "3.085436621436588"
     },
     "execution_count": 14,
     "metadata": {},
     "output_type": "execute_result"
    }
   ],
   "source": [
    "l_lasso.fit(x_st,y).intercept_ # that's all it predicts -_-"
   ],
   "metadata": {
    "collapsed": false,
    "pycharm": {
     "name": "#%%\n"
    }
   }
  },
  {
   "cell_type": "code",
   "execution_count": 15,
   "outputs": [
    {
     "data": {
      "text/plain": "array([3.08543662, 3.08543662, 3.08543662, 3.08543662, 3.08543662,\n       3.08543662, 3.08543662, 3.08543662, 3.08543662, 3.08543662,\n       3.08543662, 3.08543662, 3.08543662, 3.08543662, 3.08543662,\n       3.08543662, 3.08543662, 3.08543662, 3.08543662, 3.08543662,\n       3.08543662, 3.08543662, 3.08543662, 3.08543662, 3.08543662,\n       3.08543662, 3.08543662, 3.08543662, 3.08543662, 3.08543662,\n       3.08543662, 3.08543662, 3.08543662, 3.08543662, 3.08543662,\n       3.08543662, 3.08543662, 3.08543662, 3.08543662, 3.08543662,\n       3.08543662, 3.08543662, 3.08543662, 3.08543662, 3.08543662,\n       3.08543662, 3.08543662, 3.08543662, 3.08543662, 3.08543662,\n       3.08543662, 3.08543662, 3.08543662, 3.08543662, 3.08543662,\n       3.08543662, 3.08543662, 3.08543662, 3.08543662, 3.08543662,\n       3.08543662, 3.08543662, 3.08543662, 3.08543662, 3.08543662,\n       3.08543662, 3.08543662, 3.08543662, 3.08543662, 3.08543662,\n       3.08543662, 3.08543662, 3.08543662, 3.08543662, 3.08543662,\n       3.08543662, 3.08543662, 3.08543662, 3.08543662, 3.08543662,\n       3.08543662, 3.08543662, 3.08543662, 3.08543662, 3.08543662,\n       3.08543662, 3.08543662, 3.08543662, 3.08543662, 3.08543662,\n       3.08543662, 3.08543662, 3.08543662, 3.08543662, 3.08543662,\n       3.08543662, 3.08543662, 3.08543662, 3.08543662, 3.08543662,\n       3.08543662, 3.08543662, 3.08543662, 3.08543662, 3.08543662,\n       3.08543662, 3.08543662, 3.08543662, 3.08543662, 3.08543662,\n       3.08543662, 3.08543662, 3.08543662, 3.08543662, 3.08543662,\n       3.08543662, 3.08543662, 3.08543662, 3.08543662, 3.08543662,\n       3.08543662, 3.08543662, 3.08543662, 3.08543662, 3.08543662,\n       3.08543662, 3.08543662, 3.08543662, 3.08543662, 3.08543662,\n       3.08543662, 3.08543662, 3.08543662, 3.08543662, 3.08543662,\n       3.08543662, 3.08543662, 3.08543662, 3.08543662, 3.08543662,\n       3.08543662, 3.08543662, 3.08543662, 3.08543662, 3.08543662,\n       3.08543662, 3.08543662, 3.08543662, 3.08543662, 3.08543662,\n       3.08543662, 3.08543662, 3.08543662, 3.08543662, 3.08543662,\n       3.08543662, 3.08543662, 3.08543662, 3.08543662, 3.08543662,\n       3.08543662, 3.08543662, 3.08543662, 3.08543662, 3.08543662,\n       3.08543662, 3.08543662, 3.08543662, 3.08543662, 3.08543662,\n       3.08543662, 3.08543662, 3.08543662, 3.08543662, 3.08543662,\n       3.08543662, 3.08543662, 3.08543662, 3.08543662, 3.08543662,\n       3.08543662, 3.08543662, 3.08543662, 3.08543662, 3.08543662,\n       3.08543662, 3.08543662, 3.08543662, 3.08543662, 3.08543662,\n       3.08543662, 3.08543662, 3.08543662, 3.08543662, 3.08543662,\n       3.08543662, 3.08543662, 3.08543662, 3.08543662, 3.08543662,\n       3.08543662, 3.08543662, 3.08543662, 3.08543662, 3.08543662,\n       3.08543662, 3.08543662, 3.08543662, 3.08543662, 3.08543662,\n       3.08543662, 3.08543662, 3.08543662, 3.08543662, 3.08543662,\n       3.08543662, 3.08543662, 3.08543662, 3.08543662, 3.08543662,\n       3.08543662, 3.08543662, 3.08543662, 3.08543662, 3.08543662,\n       3.08543662, 3.08543662, 3.08543662, 3.08543662, 3.08543662,\n       3.08543662, 3.08543662, 3.08543662, 3.08543662, 3.08543662,\n       3.08543662, 3.08543662, 3.08543662, 3.08543662, 3.08543662,\n       3.08543662, 3.08543662, 3.08543662, 3.08543662, 3.08543662,\n       3.08543662, 3.08543662, 3.08543662, 3.08543662, 3.08543662,\n       3.08543662, 3.08543662, 3.08543662, 3.08543662, 3.08543662,\n       3.08543662, 3.08543662, 3.08543662, 3.08543662, 3.08543662,\n       3.08543662, 3.08543662, 3.08543662, 3.08543662, 3.08543662,\n       3.08543662, 3.08543662, 3.08543662, 3.08543662, 3.08543662,\n       3.08543662, 3.08543662, 3.08543662, 3.08543662, 3.08543662,\n       3.08543662, 3.08543662, 3.08543662, 3.08543662, 3.08543662,\n       3.08543662, 3.08543662, 3.08543662, 3.08543662, 3.08543662,\n       3.08543662, 3.08543662, 3.08543662, 3.08543662, 3.08543662,\n       3.08543662, 3.08543662, 3.08543662, 3.08543662, 3.08543662,\n       3.08543662, 3.08543662, 3.08543662, 3.08543662, 3.08543662,\n       3.08543662, 3.08543662, 3.08543662, 3.08543662, 3.08543662,\n       3.08543662, 3.08543662, 3.08543662, 3.08543662, 3.08543662,\n       3.08543662, 3.08543662, 3.08543662, 3.08543662, 3.08543662,\n       3.08543662, 3.08543662, 3.08543662, 3.08543662, 3.08543662,\n       3.08543662, 3.08543662, 3.08543662, 3.08543662, 3.08543662,\n       3.08543662, 3.08543662, 3.08543662, 3.08543662, 3.08543662,\n       3.08543662, 3.08543662, 3.08543662, 3.08543662, 3.08543662,\n       3.08543662, 3.08543662, 3.08543662, 3.08543662, 3.08543662,\n       3.08543662, 3.08543662, 3.08543662, 3.08543662, 3.08543662,\n       3.08543662, 3.08543662, 3.08543662, 3.08543662, 3.08543662,\n       3.08543662, 3.08543662, 3.08543662, 3.08543662, 3.08543662,\n       3.08543662, 3.08543662, 3.08543662, 3.08543662, 3.08543662,\n       3.08543662, 3.08543662, 3.08543662, 3.08543662, 3.08543662,\n       3.08543662, 3.08543662, 3.08543662, 3.08543662, 3.08543662,\n       3.08543662, 3.08543662, 3.08543662, 3.08543662, 3.08543662,\n       3.08543662, 3.08543662, 3.08543662, 3.08543662, 3.08543662,\n       3.08543662, 3.08543662, 3.08543662, 3.08543662, 3.08543662,\n       3.08543662, 3.08543662, 3.08543662, 3.08543662, 3.08543662,\n       3.08543662, 3.08543662, 3.08543662, 3.08543662, 3.08543662,\n       3.08543662, 3.08543662, 3.08543662, 3.08543662, 3.08543662,\n       3.08543662, 3.08543662, 3.08543662, 3.08543662, 3.08543662,\n       3.08543662, 3.08543662, 3.08543662, 3.08543662, 3.08543662,\n       3.08543662, 3.08543662, 3.08543662, 3.08543662, 3.08543662,\n       3.08543662, 3.08543662, 3.08543662, 3.08543662, 3.08543662,\n       3.08543662, 3.08543662, 3.08543662, 3.08543662, 3.08543662,\n       3.08543662, 3.08543662, 3.08543662, 3.08543662, 3.08543662,\n       3.08543662, 3.08543662, 3.08543662, 3.08543662, 3.08543662,\n       3.08543662, 3.08543662, 3.08543662, 3.08543662, 3.08543662,\n       3.08543662, 3.08543662, 3.08543662, 3.08543662, 3.08543662,\n       3.08543662, 3.08543662, 3.08543662, 3.08543662, 3.08543662,\n       3.08543662, 3.08543662, 3.08543662, 3.08543662, 3.08543662,\n       3.08543662, 3.08543662, 3.08543662, 3.08543662, 3.08543662,\n       3.08543662, 3.08543662, 3.08543662, 3.08543662, 3.08543662,\n       3.08543662, 3.08543662, 3.08543662, 3.08543662, 3.08543662,\n       3.08543662, 3.08543662, 3.08543662, 3.08543662, 3.08543662,\n       3.08543662, 3.08543662, 3.08543662, 3.08543662, 3.08543662,\n       3.08543662, 3.08543662, 3.08543662, 3.08543662, 3.08543662,\n       3.08543662, 3.08543662, 3.08543662, 3.08543662, 3.08543662,\n       3.08543662, 3.08543662, 3.08543662, 3.08543662, 3.08543662,\n       3.08543662, 3.08543662, 3.08543662, 3.08543662, 3.08543662,\n       3.08543662, 3.08543662, 3.08543662, 3.08543662, 3.08543662,\n       3.08543662])"
     },
     "execution_count": 15,
     "metadata": {},
     "output_type": "execute_result"
    }
   ],
   "source": [
    "l_lasso.predict(x_st)"
   ],
   "metadata": {
    "collapsed": false,
    "pycharm": {
     "name": "#%%\n"
    }
   }
  },
  {
   "cell_type": "code",
   "execution_count": 16,
   "outputs": [
    {
     "data": {
      "text/plain": "0      3.218876\n1      3.117950\n2      3.575151\n3      3.538057\n4      3.616309\n         ...   \n501    3.152736\n502    3.072693\n503    3.214868\n504    3.135494\n505    2.557227\nName: MEDV, Length: 506, dtype: float64"
     },
     "execution_count": 16,
     "metadata": {},
     "output_type": "execute_result"
    }
   ],
   "source": [
    "y"
   ],
   "metadata": {
    "collapsed": false,
    "pycharm": {
     "name": "#%%\n"
    }
   }
  },
  {
   "cell_type": "code",
   "execution_count": null,
   "outputs": [],
   "source": [],
   "metadata": {
    "collapsed": false,
    "pycharm": {
     "name": "#%%\n"
    }
   }
  }
 ],
 "metadata": {
  "kernelspec": {
   "display_name": "Python 3",
   "language": "python",
   "name": "python3"
  },
  "language_info": {
   "codemirror_mode": {
    "name": "ipython",
    "version": 2
   },
   "file_extension": ".py",
   "mimetype": "text/x-python",
   "name": "python",
   "nbconvert_exporter": "python",
   "pygments_lexer": "ipython2",
   "version": "2.7.6"
  }
 },
 "nbformat": 4,
 "nbformat_minor": 0
}