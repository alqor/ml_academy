{
 "cells": [
  {
   "cell_type": "code",
   "execution_count": 2,
   "metadata": {
    "collapsed": true,
    "pycharm": {
     "name": "#%%\n"
    }
   },
   "outputs": [],
   "source": [
    "import pandas as pd\n",
    "# import matplotlib.pyplot as plt\n",
    "# import seaborn as sns"
   ]
  },
  {
   "cell_type": "markdown",
   "metadata": {
    "pycharm": {
     "name": "#%% md\n"
    }
   },
   "source": [
    "### Data loading"
   ]
  },
  {
   "cell_type": "code",
   "execution_count": 3,
   "outputs": [],
   "source": [
    "raw_data = pd.read_csv('WA_Fn-UseC_-Telco-Customer-Churn.csv')"
   ],
   "metadata": {
    "collapsed": false,
    "pycharm": {
     "name": "#%%\n"
    }
   }
  },
  {
   "cell_type": "code",
   "execution_count": 4,
   "outputs": [
    {
     "data": {
      "text/plain": "   customerID  gender  SeniorCitizen Partner Dependents  tenure PhoneService  \\\n0  7590-VHVEG  Female              0     Yes         No       1           No   \n1  5575-GNVDE    Male              0      No         No      34          Yes   \n2  3668-QPYBK    Male              0      No         No       2          Yes   \n3  7795-CFOCW    Male              0      No         No      45           No   \n4  9237-HQITU  Female              0      No         No       2          Yes   \n\n      MultipleLines InternetService OnlineSecurity  ... DeviceProtection  \\\n0  No phone service             DSL             No  ...               No   \n1                No             DSL            Yes  ...              Yes   \n2                No             DSL            Yes  ...               No   \n3  No phone service             DSL            Yes  ...              Yes   \n4                No     Fiber optic             No  ...               No   \n\n  TechSupport StreamingTV StreamingMovies        Contract PaperlessBilling  \\\n0          No          No              No  Month-to-month              Yes   \n1          No          No              No        One year               No   \n2          No          No              No  Month-to-month              Yes   \n3         Yes          No              No        One year               No   \n4          No          No              No  Month-to-month              Yes   \n\n               PaymentMethod MonthlyCharges  TotalCharges Churn  \n0           Electronic check          29.85         29.85    No  \n1               Mailed check          56.95        1889.5    No  \n2               Mailed check          53.85        108.15   Yes  \n3  Bank transfer (automatic)          42.30       1840.75    No  \n4           Electronic check          70.70        151.65   Yes  \n\n[5 rows x 21 columns]",
      "text/html": "<div>\n<style scoped>\n    .dataframe tbody tr th:only-of-type {\n        vertical-align: middle;\n    }\n\n    .dataframe tbody tr th {\n        vertical-align: top;\n    }\n\n    .dataframe thead th {\n        text-align: right;\n    }\n</style>\n<table border=\"1\" class=\"dataframe\">\n  <thead>\n    <tr style=\"text-align: right;\">\n      <th></th>\n      <th>customerID</th>\n      <th>gender</th>\n      <th>SeniorCitizen</th>\n      <th>Partner</th>\n      <th>Dependents</th>\n      <th>tenure</th>\n      <th>PhoneService</th>\n      <th>MultipleLines</th>\n      <th>InternetService</th>\n      <th>OnlineSecurity</th>\n      <th>...</th>\n      <th>DeviceProtection</th>\n      <th>TechSupport</th>\n      <th>StreamingTV</th>\n      <th>StreamingMovies</th>\n      <th>Contract</th>\n      <th>PaperlessBilling</th>\n      <th>PaymentMethod</th>\n      <th>MonthlyCharges</th>\n      <th>TotalCharges</th>\n      <th>Churn</th>\n    </tr>\n  </thead>\n  <tbody>\n    <tr>\n      <th>0</th>\n      <td>7590-VHVEG</td>\n      <td>Female</td>\n      <td>0</td>\n      <td>Yes</td>\n      <td>No</td>\n      <td>1</td>\n      <td>No</td>\n      <td>No phone service</td>\n      <td>DSL</td>\n      <td>No</td>\n      <td>...</td>\n      <td>No</td>\n      <td>No</td>\n      <td>No</td>\n      <td>No</td>\n      <td>Month-to-month</td>\n      <td>Yes</td>\n      <td>Electronic check</td>\n      <td>29.85</td>\n      <td>29.85</td>\n      <td>No</td>\n    </tr>\n    <tr>\n      <th>1</th>\n      <td>5575-GNVDE</td>\n      <td>Male</td>\n      <td>0</td>\n      <td>No</td>\n      <td>No</td>\n      <td>34</td>\n      <td>Yes</td>\n      <td>No</td>\n      <td>DSL</td>\n      <td>Yes</td>\n      <td>...</td>\n      <td>Yes</td>\n      <td>No</td>\n      <td>No</td>\n      <td>No</td>\n      <td>One year</td>\n      <td>No</td>\n      <td>Mailed check</td>\n      <td>56.95</td>\n      <td>1889.5</td>\n      <td>No</td>\n    </tr>\n    <tr>\n      <th>2</th>\n      <td>3668-QPYBK</td>\n      <td>Male</td>\n      <td>0</td>\n      <td>No</td>\n      <td>No</td>\n      <td>2</td>\n      <td>Yes</td>\n      <td>No</td>\n      <td>DSL</td>\n      <td>Yes</td>\n      <td>...</td>\n      <td>No</td>\n      <td>No</td>\n      <td>No</td>\n      <td>No</td>\n      <td>Month-to-month</td>\n      <td>Yes</td>\n      <td>Mailed check</td>\n      <td>53.85</td>\n      <td>108.15</td>\n      <td>Yes</td>\n    </tr>\n    <tr>\n      <th>3</th>\n      <td>7795-CFOCW</td>\n      <td>Male</td>\n      <td>0</td>\n      <td>No</td>\n      <td>No</td>\n      <td>45</td>\n      <td>No</td>\n      <td>No phone service</td>\n      <td>DSL</td>\n      <td>Yes</td>\n      <td>...</td>\n      <td>Yes</td>\n      <td>Yes</td>\n      <td>No</td>\n      <td>No</td>\n      <td>One year</td>\n      <td>No</td>\n      <td>Bank transfer (automatic)</td>\n      <td>42.30</td>\n      <td>1840.75</td>\n      <td>No</td>\n    </tr>\n    <tr>\n      <th>4</th>\n      <td>9237-HQITU</td>\n      <td>Female</td>\n      <td>0</td>\n      <td>No</td>\n      <td>No</td>\n      <td>2</td>\n      <td>Yes</td>\n      <td>No</td>\n      <td>Fiber optic</td>\n      <td>No</td>\n      <td>...</td>\n      <td>No</td>\n      <td>No</td>\n      <td>No</td>\n      <td>No</td>\n      <td>Month-to-month</td>\n      <td>Yes</td>\n      <td>Electronic check</td>\n      <td>70.70</td>\n      <td>151.65</td>\n      <td>Yes</td>\n    </tr>\n  </tbody>\n</table>\n<p>5 rows × 21 columns</p>\n</div>"
     },
     "execution_count": 4,
     "metadata": {},
     "output_type": "execute_result"
    }
   ],
   "source": [
    "raw_data.head()"
   ],
   "metadata": {
    "collapsed": false,
    "pycharm": {
     "name": "#%%\n"
    }
   }
  },
  {
   "cell_type": "code",
   "execution_count": 5,
   "outputs": [
    {
     "name": "stdout",
     "output_type": "stream",
     "text": [
      "<class 'pandas.core.frame.DataFrame'>\n",
      "RangeIndex: 7043 entries, 0 to 7042\n",
      "Data columns (total 21 columns):\n",
      " #   Column            Non-Null Count  Dtype  \n",
      "---  ------            --------------  -----  \n",
      " 0   customerID        7043 non-null   object \n",
      " 1   gender            7043 non-null   object \n",
      " 2   SeniorCitizen     7043 non-null   int64  \n",
      " 3   Partner           7043 non-null   object \n",
      " 4   Dependents        7043 non-null   object \n",
      " 5   tenure            7043 non-null   int64  \n",
      " 6   PhoneService      7043 non-null   object \n",
      " 7   MultipleLines     7043 non-null   object \n",
      " 8   InternetService   7043 non-null   object \n",
      " 9   OnlineSecurity    7043 non-null   object \n",
      " 10  OnlineBackup      7043 non-null   object \n",
      " 11  DeviceProtection  7043 non-null   object \n",
      " 12  TechSupport       7043 non-null   object \n",
      " 13  StreamingTV       7043 non-null   object \n",
      " 14  StreamingMovies   7043 non-null   object \n",
      " 15  Contract          7043 non-null   object \n",
      " 16  PaperlessBilling  7043 non-null   object \n",
      " 17  PaymentMethod     7043 non-null   object \n",
      " 18  MonthlyCharges    7043 non-null   float64\n",
      " 19  TotalCharges      7043 non-null   object \n",
      " 20  Churn             7043 non-null   object \n",
      "dtypes: float64(1), int64(2), object(18)\n",
      "memory usage: 1.1+ MB\n"
     ]
    }
   ],
   "source": [
    "raw_data.info() # A lor of columns are objects - so they are either non-converted to a numbers or there are a lot of cat variables"
   ],
   "metadata": {
    "collapsed": false,
    "pycharm": {
     "name": "#%%\n"
    }
   }
  },
  {
   "cell_type": "code",
   "execution_count": 6,
   "outputs": [
    {
     "data": {
      "text/plain": "       SeniorCitizen       tenure  MonthlyCharges\ncount    7043.000000  7043.000000     7043.000000\nmean        0.162147    32.371149       64.761692\nstd         0.368612    24.559481       30.090047\nmin         0.000000     0.000000       18.250000\n25%         0.000000     9.000000       35.500000\n50%         0.000000    29.000000       70.350000\n75%         0.000000    55.000000       89.850000\nmax         1.000000    72.000000      118.750000",
      "text/html": "<div>\n<style scoped>\n    .dataframe tbody tr th:only-of-type {\n        vertical-align: middle;\n    }\n\n    .dataframe tbody tr th {\n        vertical-align: top;\n    }\n\n    .dataframe thead th {\n        text-align: right;\n    }\n</style>\n<table border=\"1\" class=\"dataframe\">\n  <thead>\n    <tr style=\"text-align: right;\">\n      <th></th>\n      <th>SeniorCitizen</th>\n      <th>tenure</th>\n      <th>MonthlyCharges</th>\n    </tr>\n  </thead>\n  <tbody>\n    <tr>\n      <th>count</th>\n      <td>7043.000000</td>\n      <td>7043.000000</td>\n      <td>7043.000000</td>\n    </tr>\n    <tr>\n      <th>mean</th>\n      <td>0.162147</td>\n      <td>32.371149</td>\n      <td>64.761692</td>\n    </tr>\n    <tr>\n      <th>std</th>\n      <td>0.368612</td>\n      <td>24.559481</td>\n      <td>30.090047</td>\n    </tr>\n    <tr>\n      <th>min</th>\n      <td>0.000000</td>\n      <td>0.000000</td>\n      <td>18.250000</td>\n    </tr>\n    <tr>\n      <th>25%</th>\n      <td>0.000000</td>\n      <td>9.000000</td>\n      <td>35.500000</td>\n    </tr>\n    <tr>\n      <th>50%</th>\n      <td>0.000000</td>\n      <td>29.000000</td>\n      <td>70.350000</td>\n    </tr>\n    <tr>\n      <th>75%</th>\n      <td>0.000000</td>\n      <td>55.000000</td>\n      <td>89.850000</td>\n    </tr>\n    <tr>\n      <th>max</th>\n      <td>1.000000</td>\n      <td>72.000000</td>\n      <td>118.750000</td>\n    </tr>\n  </tbody>\n</table>\n</div>"
     },
     "execution_count": 6,
     "metadata": {},
     "output_type": "execute_result"
    }
   ],
   "source": [
    "raw_data.describe() # not much help here"
   ],
   "metadata": {
    "collapsed": false,
    "pycharm": {
     "name": "#%%\n"
    }
   }
  },
  {
   "cell_type": "code",
   "execution_count": 7,
   "metadata": {
    "pycharm": {
     "name": "#%%\n"
    }
   },
   "outputs": [],
   "source": [
    "# try convert to numeric and nothing good will happen\n",
    "for c in raw_data.columns:\n",
    "    raw_data[c] = pd.to_numeric(raw_data[c], errors='ignore')"
   ]
  },
  {
   "cell_type": "code",
   "execution_count": 8,
   "metadata": {
    "pycharm": {
     "name": "#%%\n"
    }
   },
   "outputs": [
    {
     "name": "stdout",
     "output_type": "stream",
     "text": [
      "customerID 7043\n",
      "gender 2\n",
      "SeniorCitizen 2\n",
      "Partner 2\n",
      "Dependents 2\n",
      "tenure 73\n",
      "PhoneService 2\n",
      "MultipleLines 3\n",
      "InternetService 3\n",
      "OnlineSecurity 3\n",
      "OnlineBackup 3\n",
      "DeviceProtection 3\n",
      "TechSupport 3\n",
      "StreamingTV 3\n",
      "StreamingMovies 3\n",
      "Contract 3\n",
      "PaperlessBilling 2\n",
      "PaymentMethod 4\n",
      "MonthlyCharges 1585\n",
      "TotalCharges 6531\n",
      "Churn 2\n"
     ]
    }
   ],
   "source": [
    "for c in raw_data.columns:\n",
    "    print(c, raw_data[c].drop_duplicates().count())"
   ]
  },
  {
   "cell_type": "code",
   "execution_count": 9,
   "metadata": {
    "pycharm": {
     "name": "#%%\n"
    }
   },
   "outputs": [],
   "source": [
    "data = raw_data.copy()\n",
    "# we don't need customer_id column\n",
    "data.drop(columns=['customerID'], inplace=True)"
   ]
  },
  {
   "cell_type": "code",
   "execution_count": 10,
   "outputs": [
    {
     "data": {
      "text/plain": "Male      3555\nFemale    3488\nName: gender, dtype: int64"
     },
     "execution_count": 10,
     "metadata": {},
     "output_type": "execute_result"
    }
   ],
   "source": [
    "# just go for a columns one by one\n",
    "data['gender'].value_counts()"
   ],
   "metadata": {
    "collapsed": false,
    "pycharm": {
     "name": "#%%\n"
    }
   }
  },
  {
   "cell_type": "code",
   "execution_count": 11,
   "outputs": [],
   "source": [
    "data['gender'] = data['gender'].apply(lambda x: 0 if x == 'Male' else 1)"
   ],
   "metadata": {
    "collapsed": false,
    "pycharm": {
     "name": "#%%\n"
    }
   }
  },
  {
   "cell_type": "code",
   "execution_count": 12,
   "outputs": [],
   "source": [
    "# just to replace every Yes/No in once for all columns with just these two values\n",
    "for col in data.columns:\n",
    "    if data[col].dtype == 'object' and len(data[col].value_counts().index)==2:\n",
    "        data[col] = data[col].replace('No', 0).replace('Yes',1)"
   ],
   "metadata": {
    "collapsed": false,
    "pycharm": {
     "name": "#%%\n"
    }
   }
  },
  {
   "cell_type": "code",
   "execution_count": 13,
   "outputs": [
    {
     "name": "stdout",
     "output_type": "stream",
     "text": [
      "<class 'pandas.core.frame.DataFrame'>\n",
      "RangeIndex: 7043 entries, 0 to 7042\n",
      "Data columns (total 20 columns):\n",
      " #   Column            Non-Null Count  Dtype  \n",
      "---  ------            --------------  -----  \n",
      " 0   gender            7043 non-null   int64  \n",
      " 1   SeniorCitizen     7043 non-null   int64  \n",
      " 2   Partner           7043 non-null   int64  \n",
      " 3   Dependents        7043 non-null   int64  \n",
      " 4   tenure            7043 non-null   int64  \n",
      " 5   PhoneService      7043 non-null   int64  \n",
      " 6   MultipleLines     7043 non-null   object \n",
      " 7   InternetService   7043 non-null   object \n",
      " 8   OnlineSecurity    7043 non-null   object \n",
      " 9   OnlineBackup      7043 non-null   object \n",
      " 10  DeviceProtection  7043 non-null   object \n",
      " 11  TechSupport       7043 non-null   object \n",
      " 12  StreamingTV       7043 non-null   object \n",
      " 13  StreamingMovies   7043 non-null   object \n",
      " 14  Contract          7043 non-null   object \n",
      " 15  PaperlessBilling  7043 non-null   int64  \n",
      " 16  PaymentMethod     7043 non-null   object \n",
      " 17  MonthlyCharges    7043 non-null   float64\n",
      " 18  TotalCharges      7043 non-null   object \n",
      " 19  Churn             7043 non-null   int64  \n",
      "dtypes: float64(1), int64(8), object(11)\n",
      "memory usage: 1.1+ MB\n"
     ]
    }
   ],
   "source": [
    "data.info() # looks better"
   ],
   "metadata": {
    "collapsed": false,
    "pycharm": {
     "name": "#%%\n"
    }
   }
  },
  {
   "cell_type": "code",
   "execution_count": 14,
   "outputs": [
    {
     "name": "stdout",
     "output_type": "stream",
     "text": [
      "MultipleLines\n",
      "No                  3390\n",
      "Yes                 2971\n",
      "No phone service     682\n",
      "Name: MultipleLines, dtype: int64\n",
      "InternetService\n",
      "Fiber optic    3096\n",
      "DSL            2421\n",
      "No             1526\n",
      "Name: InternetService, dtype: int64\n",
      "OnlineSecurity\n",
      "No                     3498\n",
      "Yes                    2019\n",
      "No internet service    1526\n",
      "Name: OnlineSecurity, dtype: int64\n",
      "OnlineBackup\n",
      "No                     3088\n",
      "Yes                    2429\n",
      "No internet service    1526\n",
      "Name: OnlineBackup, dtype: int64\n",
      "DeviceProtection\n",
      "No                     3095\n",
      "Yes                    2422\n",
      "No internet service    1526\n",
      "Name: DeviceProtection, dtype: int64\n",
      "TechSupport\n",
      "No                     3473\n",
      "Yes                    2044\n",
      "No internet service    1526\n",
      "Name: TechSupport, dtype: int64\n",
      "StreamingTV\n",
      "No                     2810\n",
      "Yes                    2707\n",
      "No internet service    1526\n",
      "Name: StreamingTV, dtype: int64\n",
      "StreamingMovies\n",
      "No                     2785\n",
      "Yes                    2732\n",
      "No internet service    1526\n",
      "Name: StreamingMovies, dtype: int64\n",
      "Contract\n",
      "Month-to-month    3875\n",
      "Two year          1695\n",
      "One year          1473\n",
      "Name: Contract, dtype: int64\n",
      "PaymentMethod\n",
      "Electronic check             2365\n",
      "Mailed check                 1612\n",
      "Bank transfer (automatic)    1544\n",
      "Credit card (automatic)      1522\n",
      "Name: PaymentMethod, dtype: int64\n",
      "TotalCharges\n",
      "          11\n",
      "20.2      11\n",
      "19.75      9\n",
      "20.05      8\n",
      "19.9       8\n",
      "          ..\n",
      "6849.4     1\n",
      "692.35     1\n",
      "130.15     1\n",
      "3211.9     1\n",
      "6844.5     1\n",
      "Name: TotalCharges, Length: 6531, dtype: int64\n"
     ]
    }
   ],
   "source": [
    "for col in data.columns:\n",
    "    if data[col].dtype == 'object':\n",
    "        print(col)\n",
    "        print(data[col].value_counts())"
   ],
   "metadata": {
    "collapsed": false,
    "pycharm": {
     "name": "#%%\n"
    }
   }
  },
  {
   "cell_type": "code",
   "execution_count": 15,
   "outputs": [],
   "source": [
    "# I would like to add two columns to represent if the subscriber has Internet/phone services\n",
    "data['HasPhoneService'] = [0  if i == 'No phone service' else 1 for i in data['MultipleLines']]\n",
    "data['HasInternetService'] = [0  if i == 'No' else 1 for i in data['InternetService']]"
   ],
   "metadata": {
    "collapsed": false,
    "pycharm": {
     "name": "#%%\n"
    }
   }
  },
  {
   "cell_type": "code",
   "execution_count": 16,
   "outputs": [
    {
     "name": "stdout",
     "output_type": "stream",
     "text": [
      "<class 'pandas.core.frame.DataFrame'>\n",
      "RangeIndex: 7043 entries, 0 to 7042\n",
      "Data columns (total 22 columns):\n",
      " #   Column              Non-Null Count  Dtype  \n",
      "---  ------              --------------  -----  \n",
      " 0   gender              7043 non-null   int64  \n",
      " 1   SeniorCitizen       7043 non-null   int64  \n",
      " 2   Partner             7043 non-null   int64  \n",
      " 3   Dependents          7043 non-null   int64  \n",
      " 4   tenure              7043 non-null   int64  \n",
      " 5   PhoneService        7043 non-null   int64  \n",
      " 6   MultipleLines       7043 non-null   object \n",
      " 7   InternetService     7043 non-null   object \n",
      " 8   OnlineSecurity      7043 non-null   object \n",
      " 9   OnlineBackup        7043 non-null   object \n",
      " 10  DeviceProtection    7043 non-null   object \n",
      " 11  TechSupport         7043 non-null   object \n",
      " 12  StreamingTV         7043 non-null   object \n",
      " 13  StreamingMovies     7043 non-null   object \n",
      " 14  Contract            7043 non-null   object \n",
      " 15  PaperlessBilling    7043 non-null   int64  \n",
      " 16  PaymentMethod       7043 non-null   object \n",
      " 17  MonthlyCharges      7043 non-null   float64\n",
      " 18  TotalCharges        7043 non-null   object \n",
      " 19  Churn               7043 non-null   int64  \n",
      " 20  HasPhoneService     7043 non-null   int64  \n",
      " 21  HasInternetService  7043 non-null   int64  \n",
      "dtypes: float64(1), int64(10), object(11)\n",
      "memory usage: 1.2+ MB\n"
     ]
    }
   ],
   "source": [
    "data.info()"
   ],
   "metadata": {
    "collapsed": false,
    "pycharm": {
     "name": "#%%\n"
    }
   }
  },
  {
   "cell_type": "code",
   "execution_count": 17,
   "outputs": [
    {
     "name": "stdout",
     "output_type": "stream",
     "text": [
      "Empty DataFrame\n",
      "Columns: [gender, SeniorCitizen, Partner, Dependents, tenure, PhoneService, MultipleLines, InternetService, OnlineSecurity, OnlineBackup, DeviceProtection, TechSupport, StreamingTV, StreamingMovies, Contract, PaperlessBilling, PaymentMethod, MonthlyCharges, TotalCharges, Churn, HasPhoneService, HasInternetService]\n",
      "Index: []\n",
      "\n",
      "[0 rows x 22 columns]\n"
     ]
    }
   ],
   "source": [
    "print(data[data['HasPhoneService'] != data['PhoneService']]) # we already have the column to represent if the user has phone service, so let's just drop duplicated\n",
    "\n",
    "data.drop(columns=['PhoneService'], inplace=True)"
   ],
   "metadata": {
    "collapsed": false,
    "pycharm": {
     "name": "#%%\n"
    }
   }
  },
  {
   "cell_type": "code",
   "execution_count": 18,
   "outputs": [
    {
     "data": {
      "text/plain": "      gender  SeniorCitizen  Partner  Dependents  tenure MultipleLines  \\\n2914       0              0        0           0      32            No   \n806        0              0        0           0      18            No   \n1484       1              1        1           0      71            No   \n3279       0              0        1           1      23            No   \n5146       0              0        0           1      11           Yes   \n\n     InternetService OnlineSecurity OnlineBackup DeviceProtection  ...  \\\n2914             DSL             No           No               No  ...   \n806              DSL             No           No              Yes  ...   \n1484     Fiber optic             No          Yes              Yes  ...   \n3279             DSL            Yes           No               No  ...   \n5146     Fiber optic             No           No               No  ...   \n\n     StreamingTV StreamingMovies        Contract PaperlessBilling  \\\n2914         Yes             Yes        One year                1   \n806           No              No  Month-to-month                0   \n1484         Yes             Yes        Two year                1   \n3279          No              No        One year                0   \n5146          No             Yes  Month-to-month                0   \n\n                  PaymentMethod MonthlyCharges  TotalCharges Churn  \\\n2914  Bank transfer (automatic)          64.85       2010.95     0   \n806     Credit card (automatic)          55.20        1058.1     0   \n1484           Electronic check          99.20       7213.75     0   \n3279    Credit card (automatic)          57.20       1423.35     0   \n5146           Electronic check          86.20         893.2     0   \n\n      HasPhoneService  HasInternetService  \n2914                1                   1  \n806                 1                   1  \n1484                1                   1  \n3279                1                   1  \n5146                1                   1  \n\n[5 rows x 21 columns]",
      "text/html": "<div>\n<style scoped>\n    .dataframe tbody tr th:only-of-type {\n        vertical-align: middle;\n    }\n\n    .dataframe tbody tr th {\n        vertical-align: top;\n    }\n\n    .dataframe thead th {\n        text-align: right;\n    }\n</style>\n<table border=\"1\" class=\"dataframe\">\n  <thead>\n    <tr style=\"text-align: right;\">\n      <th></th>\n      <th>gender</th>\n      <th>SeniorCitizen</th>\n      <th>Partner</th>\n      <th>Dependents</th>\n      <th>tenure</th>\n      <th>MultipleLines</th>\n      <th>InternetService</th>\n      <th>OnlineSecurity</th>\n      <th>OnlineBackup</th>\n      <th>DeviceProtection</th>\n      <th>...</th>\n      <th>StreamingTV</th>\n      <th>StreamingMovies</th>\n      <th>Contract</th>\n      <th>PaperlessBilling</th>\n      <th>PaymentMethod</th>\n      <th>MonthlyCharges</th>\n      <th>TotalCharges</th>\n      <th>Churn</th>\n      <th>HasPhoneService</th>\n      <th>HasInternetService</th>\n    </tr>\n  </thead>\n  <tbody>\n    <tr>\n      <th>2914</th>\n      <td>0</td>\n      <td>0</td>\n      <td>0</td>\n      <td>0</td>\n      <td>32</td>\n      <td>No</td>\n      <td>DSL</td>\n      <td>No</td>\n      <td>No</td>\n      <td>No</td>\n      <td>...</td>\n      <td>Yes</td>\n      <td>Yes</td>\n      <td>One year</td>\n      <td>1</td>\n      <td>Bank transfer (automatic)</td>\n      <td>64.85</td>\n      <td>2010.95</td>\n      <td>0</td>\n      <td>1</td>\n      <td>1</td>\n    </tr>\n    <tr>\n      <th>806</th>\n      <td>0</td>\n      <td>0</td>\n      <td>0</td>\n      <td>0</td>\n      <td>18</td>\n      <td>No</td>\n      <td>DSL</td>\n      <td>No</td>\n      <td>No</td>\n      <td>Yes</td>\n      <td>...</td>\n      <td>No</td>\n      <td>No</td>\n      <td>Month-to-month</td>\n      <td>0</td>\n      <td>Credit card (automatic)</td>\n      <td>55.20</td>\n      <td>1058.1</td>\n      <td>0</td>\n      <td>1</td>\n      <td>1</td>\n    </tr>\n    <tr>\n      <th>1484</th>\n      <td>1</td>\n      <td>1</td>\n      <td>1</td>\n      <td>0</td>\n      <td>71</td>\n      <td>No</td>\n      <td>Fiber optic</td>\n      <td>No</td>\n      <td>Yes</td>\n      <td>Yes</td>\n      <td>...</td>\n      <td>Yes</td>\n      <td>Yes</td>\n      <td>Two year</td>\n      <td>1</td>\n      <td>Electronic check</td>\n      <td>99.20</td>\n      <td>7213.75</td>\n      <td>0</td>\n      <td>1</td>\n      <td>1</td>\n    </tr>\n    <tr>\n      <th>3279</th>\n      <td>0</td>\n      <td>0</td>\n      <td>1</td>\n      <td>1</td>\n      <td>23</td>\n      <td>No</td>\n      <td>DSL</td>\n      <td>Yes</td>\n      <td>No</td>\n      <td>No</td>\n      <td>...</td>\n      <td>No</td>\n      <td>No</td>\n      <td>One year</td>\n      <td>0</td>\n      <td>Credit card (automatic)</td>\n      <td>57.20</td>\n      <td>1423.35</td>\n      <td>0</td>\n      <td>1</td>\n      <td>1</td>\n    </tr>\n    <tr>\n      <th>5146</th>\n      <td>0</td>\n      <td>0</td>\n      <td>0</td>\n      <td>1</td>\n      <td>11</td>\n      <td>Yes</td>\n      <td>Fiber optic</td>\n      <td>No</td>\n      <td>No</td>\n      <td>No</td>\n      <td>...</td>\n      <td>No</td>\n      <td>Yes</td>\n      <td>Month-to-month</td>\n      <td>0</td>\n      <td>Electronic check</td>\n      <td>86.20</td>\n      <td>893.2</td>\n      <td>0</td>\n      <td>1</td>\n      <td>1</td>\n    </tr>\n  </tbody>\n</table>\n<p>5 rows × 21 columns</p>\n</div>"
     },
     "execution_count": 18,
     "metadata": {},
     "output_type": "execute_result"
    }
   ],
   "source": [
    "data.sample(5)"
   ],
   "metadata": {
    "collapsed": false,
    "pycharm": {
     "name": "#%%\n"
    }
   }
  },
  {
   "cell_type": "code",
   "execution_count": 19,
   "outputs": [
    {
     "name": "stdout",
     "output_type": "stream",
     "text": [
      "MultipleLines\n",
      "No                  3390\n",
      "Yes                 2971\n",
      "No phone service     682\n",
      "Name: MultipleLines, dtype: int64\n"
     ]
    }
   ],
   "source": [
    "for col in data.columns:\n",
    "    if data[col].dtype == 'object' and 'No phone service' in data[col].value_counts().index:\n",
    "        print(col)\n",
    "        print(data[col].value_counts())"
   ],
   "metadata": {
    "collapsed": false,
    "pycharm": {
     "name": "#%%\n"
    }
   }
  },
  {
   "cell_type": "code",
   "execution_count": 20,
   "outputs": [],
   "source": [
    "data['MultipleLines'] = data['MultipleLines'].apply(lambda x: 1 if x == 'Yes' else 0) # because subs without phone service in general also don't have this specific service"
   ],
   "metadata": {
    "collapsed": false,
    "pycharm": {
     "name": "#%%\n"
    }
   }
  },
  {
   "cell_type": "code",
   "execution_count": 21,
   "outputs": [
    {
     "name": "stdout",
     "output_type": "stream",
     "text": [
      "OnlineSecurity\n",
      "No                     3498\n",
      "Yes                    2019\n",
      "No internet service    1526\n",
      "Name: OnlineSecurity, dtype: int64\n",
      "OnlineBackup\n",
      "No                     3088\n",
      "Yes                    2429\n",
      "No internet service    1526\n",
      "Name: OnlineBackup, dtype: int64\n",
      "DeviceProtection\n",
      "No                     3095\n",
      "Yes                    2422\n",
      "No internet service    1526\n",
      "Name: DeviceProtection, dtype: int64\n",
      "TechSupport\n",
      "No                     3473\n",
      "Yes                    2044\n",
      "No internet service    1526\n",
      "Name: TechSupport, dtype: int64\n",
      "StreamingTV\n",
      "No                     2810\n",
      "Yes                    2707\n",
      "No internet service    1526\n",
      "Name: StreamingTV, dtype: int64\n",
      "StreamingMovies\n",
      "No                     2785\n",
      "Yes                    2732\n",
      "No internet service    1526\n",
      "Name: StreamingMovies, dtype: int64\n"
     ]
    }
   ],
   "source": [
    "inet_cols = []\n",
    "for col in data.columns:\n",
    "    if data[col].dtype == 'object' and 'No internet service' in data[col].value_counts().index:\n",
    "        print(col)\n",
    "        print(data[col].value_counts())\n",
    "        inet_cols.append(col)"
   ],
   "metadata": {
    "collapsed": false,
    "pycharm": {
     "name": "#%%\n"
    }
   }
  },
  {
   "cell_type": "code",
   "execution_count": 22,
   "outputs": [],
   "source": [
    "for c in inet_cols:\n",
    "    data[c] = data[c].apply(lambda x: 1 if x == 'Yes' else 0) # same for other internet-related services"
   ],
   "metadata": {
    "collapsed": false,
    "pycharm": {
     "name": "#%%\n"
    }
   }
  },
  {
   "cell_type": "code",
   "execution_count": 23,
   "outputs": [
    {
     "data": {
      "text/plain": "gender                  int64\nSeniorCitizen           int64\nPartner                 int64\nDependents              int64\ntenure                  int64\nMultipleLines           int64\nInternetService        object\nOnlineSecurity          int64\nOnlineBackup            int64\nDeviceProtection        int64\nTechSupport             int64\nStreamingTV             int64\nStreamingMovies         int64\nContract               object\nPaperlessBilling        int64\nPaymentMethod          object\nMonthlyCharges        float64\nTotalCharges           object\nChurn                   int64\nHasPhoneService         int64\nHasInternetService      int64\ndtype: object"
     },
     "execution_count": 23,
     "metadata": {},
     "output_type": "execute_result"
    }
   ],
   "source": [
    "data.dtypes"
   ],
   "metadata": {
    "collapsed": false,
    "pycharm": {
     "name": "#%%\n"
    }
   }
  },
  {
   "cell_type": "code",
   "execution_count": 24,
   "outputs": [
    {
     "data": {
      "text/plain": "Fiber optic    3096\nDSL            2421\nNo             1526\nName: InternetService, dtype: int64"
     },
     "execution_count": 24,
     "metadata": {},
     "output_type": "execute_result"
    }
   ],
   "source": [
    "data['InternetService'].value_counts()"
   ],
   "metadata": {
    "collapsed": false,
    "pycharm": {
     "name": "#%%\n"
    }
   }
  },
  {
   "cell_type": "code",
   "execution_count": 25,
   "outputs": [
    {
     "data": {
      "text/plain": "   InternetService_DSL  InternetService_Fiber optic  InternetService_No\n0                    1                            0                   0\n1                    1                            0                   0\n2                    1                            0                   0\n3                    1                            0                   0\n4                    0                            1                   0",
      "text/html": "<div>\n<style scoped>\n    .dataframe tbody tr th:only-of-type {\n        vertical-align: middle;\n    }\n\n    .dataframe tbody tr th {\n        vertical-align: top;\n    }\n\n    .dataframe thead th {\n        text-align: right;\n    }\n</style>\n<table border=\"1\" class=\"dataframe\">\n  <thead>\n    <tr style=\"text-align: right;\">\n      <th></th>\n      <th>InternetService_DSL</th>\n      <th>InternetService_Fiber optic</th>\n      <th>InternetService_No</th>\n    </tr>\n  </thead>\n  <tbody>\n    <tr>\n      <th>0</th>\n      <td>1</td>\n      <td>0</td>\n      <td>0</td>\n    </tr>\n    <tr>\n      <th>1</th>\n      <td>1</td>\n      <td>0</td>\n      <td>0</td>\n    </tr>\n    <tr>\n      <th>2</th>\n      <td>1</td>\n      <td>0</td>\n      <td>0</td>\n    </tr>\n    <tr>\n      <th>3</th>\n      <td>1</td>\n      <td>0</td>\n      <td>0</td>\n    </tr>\n    <tr>\n      <th>4</th>\n      <td>0</td>\n      <td>1</td>\n      <td>0</td>\n    </tr>\n  </tbody>\n</table>\n</div>"
     },
     "execution_count": 25,
     "metadata": {},
     "output_type": "execute_result"
    }
   ],
   "source": [
    "inet_service_dummy = pd.get_dummies(data['InternetService'], prefix='InternetService')\n",
    "inet_service_dummy.head()"
   ],
   "metadata": {
    "collapsed": false,
    "pycharm": {
     "name": "#%%\n"
    }
   }
  },
  {
   "cell_type": "code",
   "execution_count": 26,
   "outputs": [
    {
     "data": {
      "text/plain": "Month-to-month    3875\nTwo year          1695\nOne year          1473\nName: Contract, dtype: int64"
     },
     "execution_count": 26,
     "metadata": {},
     "output_type": "execute_result"
    }
   ],
   "source": [
    "data['Contract'].value_counts()"
   ],
   "metadata": {
    "collapsed": false,
    "pycharm": {
     "name": "#%%\n"
    }
   }
  },
  {
   "cell_type": "code",
   "execution_count": 27,
   "outputs": [
    {
     "data": {
      "text/plain": "   Contract_Month-to-month  Contract_One year  Contract_Two year\n0                        1                  0                  0\n1                        0                  1                  0\n2                        1                  0                  0\n3                        0                  1                  0\n4                        1                  0                  0",
      "text/html": "<div>\n<style scoped>\n    .dataframe tbody tr th:only-of-type {\n        vertical-align: middle;\n    }\n\n    .dataframe tbody tr th {\n        vertical-align: top;\n    }\n\n    .dataframe thead th {\n        text-align: right;\n    }\n</style>\n<table border=\"1\" class=\"dataframe\">\n  <thead>\n    <tr style=\"text-align: right;\">\n      <th></th>\n      <th>Contract_Month-to-month</th>\n      <th>Contract_One year</th>\n      <th>Contract_Two year</th>\n    </tr>\n  </thead>\n  <tbody>\n    <tr>\n      <th>0</th>\n      <td>1</td>\n      <td>0</td>\n      <td>0</td>\n    </tr>\n    <tr>\n      <th>1</th>\n      <td>0</td>\n      <td>1</td>\n      <td>0</td>\n    </tr>\n    <tr>\n      <th>2</th>\n      <td>1</td>\n      <td>0</td>\n      <td>0</td>\n    </tr>\n    <tr>\n      <th>3</th>\n      <td>0</td>\n      <td>1</td>\n      <td>0</td>\n    </tr>\n    <tr>\n      <th>4</th>\n      <td>1</td>\n      <td>0</td>\n      <td>0</td>\n    </tr>\n  </tbody>\n</table>\n</div>"
     },
     "execution_count": 27,
     "metadata": {},
     "output_type": "execute_result"
    }
   ],
   "source": [
    "contract_dummy = pd.get_dummies(data['Contract'], prefix='Contract')\n",
    "contract_dummy.head()"
   ],
   "metadata": {
    "collapsed": false,
    "pycharm": {
     "name": "#%%\n"
    }
   }
  },
  {
   "cell_type": "code",
   "execution_count": 28,
   "outputs": [
    {
     "data": {
      "text/plain": "Electronic check             2365\nMailed check                 1612\nBank transfer (automatic)    1544\nCredit card (automatic)      1522\nName: PaymentMethod, dtype: int64"
     },
     "execution_count": 28,
     "metadata": {},
     "output_type": "execute_result"
    }
   ],
   "source": [
    "data['PaymentMethod'].value_counts()"
   ],
   "metadata": {
    "collapsed": false,
    "pycharm": {
     "name": "#%%\n"
    }
   }
  },
  {
   "cell_type": "code",
   "execution_count": 29,
   "outputs": [
    {
     "data": {
      "text/plain": "   Payment_Bank transfer (automatic)  Payment_Credit card (automatic)  \\\n0                                  0                                0   \n1                                  0                                0   \n2                                  0                                0   \n3                                  1                                0   \n4                                  0                                0   \n\n   Payment_Electronic check  Payment_Mailed check  \n0                         1                     0  \n1                         0                     1  \n2                         0                     1  \n3                         0                     0  \n4                         1                     0  ",
      "text/html": "<div>\n<style scoped>\n    .dataframe tbody tr th:only-of-type {\n        vertical-align: middle;\n    }\n\n    .dataframe tbody tr th {\n        vertical-align: top;\n    }\n\n    .dataframe thead th {\n        text-align: right;\n    }\n</style>\n<table border=\"1\" class=\"dataframe\">\n  <thead>\n    <tr style=\"text-align: right;\">\n      <th></th>\n      <th>Payment_Bank transfer (automatic)</th>\n      <th>Payment_Credit card (automatic)</th>\n      <th>Payment_Electronic check</th>\n      <th>Payment_Mailed check</th>\n    </tr>\n  </thead>\n  <tbody>\n    <tr>\n      <th>0</th>\n      <td>0</td>\n      <td>0</td>\n      <td>1</td>\n      <td>0</td>\n    </tr>\n    <tr>\n      <th>1</th>\n      <td>0</td>\n      <td>0</td>\n      <td>0</td>\n      <td>1</td>\n    </tr>\n    <tr>\n      <th>2</th>\n      <td>0</td>\n      <td>0</td>\n      <td>0</td>\n      <td>1</td>\n    </tr>\n    <tr>\n      <th>3</th>\n      <td>1</td>\n      <td>0</td>\n      <td>0</td>\n      <td>0</td>\n    </tr>\n    <tr>\n      <th>4</th>\n      <td>0</td>\n      <td>0</td>\n      <td>1</td>\n      <td>0</td>\n    </tr>\n  </tbody>\n</table>\n</div>"
     },
     "execution_count": 29,
     "metadata": {},
     "output_type": "execute_result"
    }
   ],
   "source": [
    "payment_dummy = pd.get_dummies(data['PaymentMethod'], prefix='Payment')\n",
    "payment_dummy.head()"
   ],
   "metadata": {
    "collapsed": false,
    "pycharm": {
     "name": "#%%\n"
    }
   }
  },
  {
   "cell_type": "code",
   "execution_count": 31,
   "outputs": [],
   "source": [
    "all_dummies = inet_service_dummy.iloc[:,:2].join(contract_dummy).join(payment_dummy)"
   ],
   "metadata": {
    "collapsed": false,
    "pycharm": {
     "name": "#%%\n"
    }
   }
  },
  {
   "cell_type": "code",
   "execution_count": 32,
   "outputs": [],
   "source": [
    "data = data.join(all_dummies)"
   ],
   "metadata": {
    "collapsed": false,
    "pycharm": {
     "name": "#%%\n"
    }
   }
  },
  {
   "cell_type": "code",
   "execution_count": 63,
   "outputs": [],
   "source": [
    "# data.drop(columns=['InternetService', 'Contract', 'PaymentMethod'], inplace=True)"
   ],
   "metadata": {
    "collapsed": false,
    "pycharm": {
     "name": "#%%\n"
    }
   }
  },
  {
   "cell_type": "code",
   "execution_count": 38,
   "outputs": [
    {
     "data": {
      "text/plain": "gender                                 int64\nSeniorCitizen                          int64\nPartner                                int64\nDependents                             int64\ntenure                                 int64\nMultipleLines                          int64\nInternetService                       object\nOnlineSecurity                         int64\nOnlineBackup                           int64\nDeviceProtection                       int64\nTechSupport                            int64\nStreamingTV                            int64\nStreamingMovies                        int64\nContract                              object\nPaperlessBilling                       int64\nPaymentMethod                         object\nMonthlyCharges                       float64\nTotalCharges                         float64\nChurn                                  int64\nHasPhoneService                        int64\nHasInternetService                     int64\nInternetService_DSL                    uint8\nInternetService_Fiber optic            uint8\nContract_Month-to-month                uint8\nContract_One year                      uint8\nContract_Two year                      uint8\nPayment_Bank transfer (automatic)      uint8\nPayment_Credit card (automatic)        uint8\nPayment_Electronic check               uint8\nPayment_Mailed check                   uint8\ndtype: object"
     },
     "execution_count": 38,
     "metadata": {},
     "output_type": "execute_result"
    }
   ],
   "source": [
    "data.dtypes"
   ],
   "metadata": {
    "collapsed": false,
    "pycharm": {
     "name": "#%%\n"
    }
   }
  },
  {
   "cell_type": "code",
   "execution_count": 37,
   "outputs": [],
   "source": [
    "data['TotalCharges'] = pd.to_numeric(data['TotalCharges'], errors='coerce')"
   ],
   "metadata": {
    "collapsed": false,
    "pycharm": {
     "name": "#%%\n"
    }
   }
  },
  {
   "cell_type": "code",
   "execution_count": 39,
   "outputs": [
    {
     "data": {
      "text/plain": "gender                                0\nSeniorCitizen                         0\nPartner                               0\nDependents                            0\ntenure                                0\nMultipleLines                         0\nInternetService                       0\nOnlineSecurity                        0\nOnlineBackup                          0\nDeviceProtection                      0\nTechSupport                           0\nStreamingTV                           0\nStreamingMovies                       0\nContract                              0\nPaperlessBilling                      0\nPaymentMethod                         0\nMonthlyCharges                        0\nTotalCharges                         11\nChurn                                 0\nHasPhoneService                       0\nHasInternetService                    0\nInternetService_DSL                   0\nInternetService_Fiber optic           0\nContract_Month-to-month               0\nContract_One year                     0\nContract_Two year                     0\nPayment_Bank transfer (automatic)     0\nPayment_Credit card (automatic)       0\nPayment_Electronic check              0\nPayment_Mailed check                  0\ndtype: int64"
     },
     "execution_count": 39,
     "metadata": {},
     "output_type": "execute_result"
    }
   ],
   "source": [
    "data.isnull().sum()"
   ],
   "metadata": {
    "collapsed": false,
    "pycharm": {
     "name": "#%%\n"
    }
   }
  },
  {
   "cell_type": "code",
   "execution_count": 40,
   "outputs": [],
   "source": [
    "data = data[~data['TotalCharges'].isna()]"
   ],
   "metadata": {
    "collapsed": false,
    "pycharm": {
     "name": "#%%\n"
    }
   }
  },
  {
   "cell_type": "code",
   "execution_count": 41,
   "outputs": [
    {
     "data": {
      "text/plain": "gender                               0\nSeniorCitizen                        0\nPartner                              0\nDependents                           0\ntenure                               0\nMultipleLines                        0\nInternetService                      0\nOnlineSecurity                       0\nOnlineBackup                         0\nDeviceProtection                     0\nTechSupport                          0\nStreamingTV                          0\nStreamingMovies                      0\nContract                             0\nPaperlessBilling                     0\nPaymentMethod                        0\nMonthlyCharges                       0\nTotalCharges                         0\nChurn                                0\nHasPhoneService                      0\nHasInternetService                   0\nInternetService_DSL                  0\nInternetService_Fiber optic          0\nContract_Month-to-month              0\nContract_One year                    0\nContract_Two year                    0\nPayment_Bank transfer (automatic)    0\nPayment_Credit card (automatic)      0\nPayment_Electronic check             0\nPayment_Mailed check                 0\ndtype: int64"
     },
     "execution_count": 41,
     "metadata": {},
     "output_type": "execute_result"
    }
   ],
   "source": [
    "data.isnull().sum()"
   ],
   "metadata": {
    "collapsed": false,
    "pycharm": {
     "name": "#%%\n"
    }
   }
  },
  {
   "cell_type": "code",
   "execution_count": 49,
   "outputs": [],
   "source": [
    "data.to_pickle('cleaned_data.pkl')"
   ],
   "metadata": {
    "collapsed": false,
    "pycharm": {
     "name": "#%%\n"
    }
   }
  },
  {
   "cell_type": "code",
   "execution_count": 47,
   "outputs": [],
   "source": [
    "import os"
   ],
   "metadata": {
    "collapsed": false,
    "pycharm": {
     "name": "#%%\n"
    }
   }
  },
  {
   "cell_type": "code",
   "execution_count": 48,
   "outputs": [
    {
     "data": {
      "text/plain": "'D:\\\\_learning\\\\PY\\\\ml_academy\\\\ml_academy\\\\task_2'"
     },
     "execution_count": 48,
     "metadata": {},
     "output_type": "execute_result"
    }
   ],
   "source": [
    "os.getcwd()"
   ],
   "metadata": {
    "collapsed": false,
    "pycharm": {
     "name": "#%%\n"
    }
   }
  },
  {
   "cell_type": "code",
   "execution_count": null,
   "outputs": [],
   "source": [],
   "metadata": {
    "collapsed": false,
    "pycharm": {
     "name": "#%%\n"
    }
   }
  }
 ],
 "metadata": {
  "interpreter": {
   "hash": "9f4c811d5f291bed43e8ec34cdd3b98e9b2631bcd0b30b2099949931055d94fd"
  },
  "kernelspec": {
   "display_name": "Python 3.8.0 64-bit",
   "language": "python",
   "name": "python3"
  },
  "language_info": {
   "codemirror_mode": {
    "name": "ipython",
    "version": 3
   },
   "file_extension": ".py",
   "mimetype": "text/x-python",
   "name": "python",
   "nbconvert_exporter": "python",
   "pygments_lexer": "ipython3",
   "version": "3.8.0"
  }
 },
 "nbformat": 4,
 "nbformat_minor": 0
}